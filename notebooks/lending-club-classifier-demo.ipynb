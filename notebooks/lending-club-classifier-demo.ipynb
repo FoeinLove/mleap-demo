{
 "cells": [
  {
   "cell_type": "markdown",
   "metadata": {},
   "source": [
    "# Lending Club Classifier and .deploy() Demo"
   ]
  },
  {
   "cell_type": "markdown",
   "metadata": {},
   "source": [
    "To set-up running Spark 2.0 (required for this demo) from a Jupyter notebook, follow these [instructions](https://github.com/combust-ml/mleap/wiki/Setting-up-a-Spark-2.0-notebook-with-MLeap-and-Toree).\n",
    "\n",
    "This demo will show you how to:\n",
    "1. Load the research dataset from s3\n",
    "2. Construct a feature transformer pipeline using commonly available transformers in Spark\n",
    "3. Train and deploy our classifiers to a public model server hosted on the combust.ml cloud using .deploy()\n",
    "\n",
    "NOTE: To run the actual deploy step you have to either:\n",
    "1. Get a key from combust.ml - it's easy, just email us!\n",
    "2. Fire up the combust cloud server on your local machine - also easy, send us an email and we'll send you a docker image."
   ]
  },
  {
   "cell_type": "markdown",
   "metadata": {},
   "source": [
    "## Background on the Dataset"
   ]
  },
  {
   "cell_type": "markdown",
   "metadata": {},
   "source": [
    "The dataset used for the demo was pulled together from the publicly available [Lending Club Statistics datasets](https://www.lendingclub.com/info/download-data.action). The original data provided by Lending Club (Issued and Rejected loans) is not standardized, so for this demo we've gone ahead and pulled together only the common set of fields for you."
   ]
  },
  {
   "cell_type": "markdown",
   "metadata": {},
   "source": [
    "### Step 0: Load libraries and data"
   ]
  },
  {
   "cell_type": "markdown",
   "metadata": {},
   "source": [
    "For now, we've made it so that you have to download the [data](https://s3-us-west-2.amazonaws.com/mleap-demo/datasources/airbnb.avro.zip) from s3. We suggest that you place it in your /tmp directory."
   ]
  },
  {
   "cell_type": "markdown",
   "metadata": {},
   "source": [
    "Once [TOREE-345](https://issues.apache.org/jira/browse/TOREE-345) is fixed, we won't have to deal with complicated notebook setup and will just be able to include:\n",
    "\n",
    "```scala\n",
    "%AddDeps ml.combust.mleap mleap-spark_2.11 0.3.0 --transitive\n",
    "```\n",
    "\n",
    "For now, make sure to clone [mleap](https://github.com/combust-ml/mleap) and run:\n",
    "\n",
    "```bash\n",
    "sbt \"+ publishLocal\"\n",
    "sbt publishM2\n",
    "```"
   ]
  },
  {
   "cell_type": "code",
   "execution_count": 12,
   "metadata": {
    "collapsed": false
   },
   "outputs": [
    {
     "name": "stdout",
     "output_type": "stream",
     "text": [
      "Marking ml.combust.mleap:mleap-spark_2.11:0.3.0-SNAPSHOT for download\n",
      "Preparing to fetch from:\n",
      "-> file:/var/folders/b2/swftcs0s4bvfpqfvn3rm0pzw0000gn/T/toree_add_deps2959412719271534823/\n",
      "-> file:/Users/mikhail/.m2/repository\n",
      "-> https://repo1.maven.org/maven2\n",
      "-> New file at /var/folders/b2/swftcs0s4bvfpqfvn3rm0pzw0000gn/T/toree_add_deps2959412719271534823/https/repo1.maven.org/maven2/com/lihaoyi/sourcecode_2.11/0.1.1/sourcecode_2.11-0.1.1.jar\n",
      "-> New file at /var/folders/b2/swftcs0s4bvfpqfvn3rm0pzw0000gn/T/toree_add_deps2959412719271534823/https/repo1.maven.org/maven2/io/spray/spray-json_2.11/1.3.2/spray-json_2.11-1.3.2.jar\n",
      "-> New file at /var/folders/b2/swftcs0s4bvfpqfvn3rm0pzw0000gn/T/toree_add_deps2959412719271534823/https/repo1.maven.org/maven2/com/lihaoyi/fastparse-utils_2.11/0.3.7/fastparse-utils_2.11-0.3.7.jar\n",
      "-> New file at /Users/mikhail/.m2/repository/ml/combust/mleap/mleap-runtime_2.11/0.3.0-SNAPSHOT/mleap-runtime_2.11-0.3.0-SNAPSHOT.jar\n",
      "-> New file at /Users/mikhail/.m2/repository/ml/combust/mleap/mleap-spark_2.11/0.3.0-SNAPSHOT/mleap-spark_2.11-0.3.0-SNAPSHOT.jar\n",
      "-> New file at /var/folders/b2/swftcs0s4bvfpqfvn3rm0pzw0000gn/T/toree_add_deps2959412719271534823/https/repo1.maven.org/maven2/com/google/protobuf/protobuf-java/3.0.0/protobuf-java-3.0.0.jar\n",
      "-> New file at /var/folders/b2/swftcs0s4bvfpqfvn3rm0pzw0000gn/T/toree_add_deps2959412719271534823/https/repo1.maven.org/maven2/com/trueaccord/lenses/lenses_2.11/0.4.6/lenses_2.11-0.4.6.jar\n",
      "-> New file at /var/folders/b2/swftcs0s4bvfpqfvn3rm0pzw0000gn/T/toree_add_deps2959412719271534823/https/repo1.maven.org/maven2/com/lihaoyi/fastparse_2.11/0.3.7/fastparse_2.11-0.3.7.jar\n",
      "-> New file at /Users/mikhail/.m2/repository/ml/combust/mleap/mleap-core_2.11/0.3.0-SNAPSHOT/mleap-core_2.11-0.3.0-SNAPSHOT.jar\n",
      "-> New file at /var/folders/b2/swftcs0s4bvfpqfvn3rm0pzw0000gn/T/toree_add_deps2959412719271534823/https/repo1.maven.org/maven2/com/jsuereth/scala-arm_2.11/2.0-RC1/scala-arm_2.11-2.0-RC1.jar\n",
      "-> New file at /var/folders/b2/swftcs0s4bvfpqfvn3rm0pzw0000gn/T/toree_add_deps2959412719271534823/https/repo1.maven.org/maven2/com/typesafe/config/1.3.0/config-1.3.0.jar\n",
      "-> New file at /Users/mikhail/.m2/repository/ml/combust/bundle/bundle-ml_2.11/0.3.0-SNAPSHOT/bundle-ml_2.11-0.3.0-SNAPSHOT.jar\n",
      "-> New file at /var/folders/b2/swftcs0s4bvfpqfvn3rm0pzw0000gn/T/toree_add_deps2959412719271534823/https/repo1.maven.org/maven2/com/trueaccord/scalapb/scalapb-runtime_2.11/0.5.42/scalapb-runtime_2.11-0.5.42.jar\n",
      "Marking com.databricks:spark-avro_2.11:3.0.1 for download\n",
      "Preparing to fetch from:\n",
      "-> file:/var/folders/b2/swftcs0s4bvfpqfvn3rm0pzw0000gn/T/toree_add_deps2959412719271534823/\n",
      "-> https://repo1.maven.org/maven2\n",
      "-> New file at /var/folders/b2/swftcs0s4bvfpqfvn3rm0pzw0000gn/T/toree_add_deps2959412719271534823/https/repo1.maven.org/maven2/com/databricks/spark-avro_2.11/3.0.1/spark-avro_2.11-3.0.1.jar\n"
     ]
    }
   ],
   "source": [
    "%AddDeps ml.combust.mleap mleap-spark_2.11 0.3.0-SNAPSHOT --transitive --repository file:///Users/mikhail/.m2/repository\n",
    "%AddDeps com.databricks spark-avro_2.11 3.0.1\n",
    "\n",
    "import org.apache.spark.ml.mleap.feature.OneHotEncoder\n",
    "import org.apache.spark.ml.feature.{StandardScaler, StringIndexer, VectorAssembler}\n",
    "import org.apache.spark.ml.classification.{RandomForestClassifier, LogisticRegression}\n",
    "import org.apache.spark.ml.{Pipeline, PipelineStage}"
   ]
  },
  {
   "cell_type": "markdown",
   "metadata": {},
   "source": [
    "IMPORTANT!!! You may have to run this next block of code a few times to get it to work - this is due to another bug in Toree. For me, running it twice works."
   ]
  },
  {
   "cell_type": "code",
   "execution_count": 14,
   "metadata": {
    "collapsed": false
   },
   "outputs": [
    {
     "name": "stdout",
     "output_type": "stream",
     "text": [
      "755473\n"
     ]
    }
   ],
   "source": [
    "// Step 1. Load our Lending Club dataset\n",
    "\n",
    "val inputFile = \"file:////tmp/lending_club.avro\"\n",
    "val outputFileRf = \"/tmp/transformer.rf.ml\"\n",
    "val outputFileLr = \"/tmp/transformer.lr.ml\"\n",
    "\n",
    "var dataset = spark.sqlContext.read.format(\"com.databricks.spark.avro\").\n",
    "  load(inputFile)\n",
    "\n",
    "println(dataset.count())"
   ]
  },
  {
   "cell_type": "code",
   "execution_count": 19,
   "metadata": {
    "collapsed": false
   },
   "outputs": [
    {
     "name": "stdout",
     "output_type": "stream",
     "text": [
      "+-----------+--------------------+------+-----------+----------+-----+--------+------------------+\n",
      "|loan_amount|fico_score_group_fnl|   dti|loan_amount|emp_length|state|approved|        loan_title|\n",
      "+-----------+--------------------+------+-----------+----------+-----+--------+------------------+\n",
      "|     1000.0|           650 - 700|   0.1|     1000.0|   4 years|   NM|     0.0|Wedding/Engagement|\n",
      "|     1000.0|           700 - 800|   0.1|     1000.0|  < 1 year|   MA|     0.0|Debt Consolidation|\n",
      "|    11000.0|           700 - 800|   0.1|    11000.0|    1 year|   MD|     0.0|Debt Consolidation|\n",
      "|     6000.0|           650 - 700|0.3864|     6000.0|  < 1 year|   MA|     0.0|             Other|\n",
      "|     1500.0|           500 - 550|0.0943|     1500.0|  < 1 year|   MD|     0.0|             Other|\n",
      "+-----------+--------------------+------+-----------+----------+-----+--------+------------------+\n",
      "only showing top 5 rows\n",
      "\n"
     ]
    }
   ],
   "source": [
    "dataset.select(\"loan_amount\", \"fico_score_group_fnl\", \"dti\", \"loan_amount\", \"emp_length\", \"state\", \"approved\", \"loan_title\").show(5)"
   ]
  }
 ],
 "metadata": {
  "kernelspec": {
   "display_name": "Apache Toree - Scala",
   "language": "scala",
   "name": "apache_toree_scala"
  },
  "language_info": {
   "name": "scala",
   "version": "2.11.8"
  }
 },
 "nbformat": 4,
 "nbformat_minor": 0
}
